{
 "cells": [
  {
   "cell_type": "markdown",
   "id": "4a8ee771",
   "metadata": {},
   "source": [
    "# Data Handling and Visuialisation (7PAM2004) – Week 4 Tutorial \n",
    "\n",
    "## Today we will complete remaining exercises from Weeks 2 and 3\n",
    "\n",
    "### Objectives:\n",
    "+ Experience with basic Python, numpy, pandas, and matplotlib\n",
    "+ Practice reading CSV and parquet files\n",
    "+ Practice manipulating arrays and making plots\n",
    "+ Practice interpreting plots \n",
    "\n",
    "### The online python documentation is a particularly useful resource that can help you with this tutorial\n",
    "### https://matplotlib.org/stable/users/index"
   ]
  },
  {
   "cell_type": "code",
   "execution_count": null,
   "id": "66194620",
   "metadata": {},
   "outputs": [],
   "source": [
    "# Exercise 1 uses pyarrow to read a parquet file. This package may or may not be\n",
    "# pre-installed on your machine. \n",
    "#\n",
    "# If you need to install it, this can be accomplished from the Jupyter Notebook. \n",
    "# The commands are provided below. Uncomment, then run.\n",
    "# pip install pyarrow\n",
    "#\n",
    "# If the command above doesn't work, please try the following\n",
    "# !pip install pyarrow"
   ]
  },
  {
   "cell_type": "markdown",
   "id": "ae70eda8",
   "metadata": {},
   "source": [
    "### Exercise 1: Stars from the European Space Agency's Gaia Mission\n",
    "\n",
    "Gaia is a European spacecraft that makes extremely precise measurements of over a billion stars in the sky \n",
    "https://www.esa.int/Science_Exploration/Space_Science/Gaia\n",
    "\n",
    "Below we will inspect a table with 1000 randomly selected stars observed by this spacecraft. We will examine two observed quantities from this data:\n",
    "- *parallax* - The apparent wobble of the star as Earth orbits our Sun (useful for calculating the star's distance)\n",
    "- *apparent magnitude* - How bright the star looks in the sky (smaller magnitudes correspond to brighter sources)\n",
    "\n",
    "We will then calculate (using formulae provided) two intrinsic properties:\n",
    "- *distance* - The distance of each star from the us (the Earth/Sun)\n",
    "- *absolute magnitude* - The intrinsic brightness of the star (smaller magnitudes correspond to brighter sources)\n",
    "\n",
    "#### *Apparent magnitude* (observed) and *absolute magnitude* (intrinsic) differ because source of light appear to get dimmer when they are far away.\n"
   ]
  },
  {
   "cell_type": "markdown",
   "id": "b0e2da44",
   "metadata": {},
   "source": [
    "I have performed a query of ESA's Gaia database to pick 1000 randomly selected stars. The queried file is called: https://star.herts.ac.uk/~kuhn/DHV/gaia_random1000.parquet\n",
    "\n",
    "Recall that a parquet file may be read with the following pandas function:\n",
    "```python\n",
    "gaia = pd.read_parquet('')\n",
    "```\n",
    "\n",
    "Read this file and inspect the contents."
   ]
  },
  {
   "cell_type": "code",
   "execution_count": 3,
   "id": "ad721f74",
   "metadata": {},
   "outputs": [],
   "source": [
    "# importing the packages you'll need for later\n",
    "import numpy as np\n",
    "import matplotlib.pyplot as plt\n",
    "import pandas as pd\n",
    "import pyarrow\n",
    "\n",
    "gaia = pd.read_parquet('')"
   ]
  },
  {
   "cell_type": "markdown",
   "id": "a33effcd",
   "metadata": {},
   "source": [
    "Now inspect the table."
   ]
  },
  {
   "cell_type": "code",
   "execution_count": null,
   "id": "923d4e59",
   "metadata": {},
   "outputs": [],
   "source": [
    "gaia"
   ]
  },
  {
   "cell_type": "markdown",
   "id": "94be7e70",
   "metadata": {},
   "source": [
    "We want to calculate two quantities for each star: the star's distance (how far it is) and it's intrinsic brightness (how much light it produces).\n",
    "\n",
    "Distance can be calculated from parallax, where<br><br>\n",
    "\n",
    "<div align=\"center\">distance = 1000/parallax.</div>\n",
    "\n",
    "The unit for distance in astronomy is the 'parsec', where 1 parsec = $3.08\\times10^{13}$ km.\n",
    "\n",
    "The apparent magnitude (how bright it is to an observer) is given in the column phot_g_mean_mag. Distant objects appear fainter, so we need to correct for this using the following formula:<br><br>\n",
    "\n",
    "<div align=\"center\">absolute magnitude = phot_g_mean_mag + 5 log$_{10}$(parallax) - 10</div>"
   ]
  },
  {
   "cell_type": "code",
   "execution_count": null,
   "id": "adb0cdf6",
   "metadata": {},
   "outputs": [],
   "source": [
    "# Calculates the quantities shown above\n",
    "gaia['distance'] = 1000/gaia['parallax']\n",
    "gaia['AbsoluteMagnitude'] = gaia['phot_g_mean_mag'] + 5*np.log10(gaia['parallax']) - 10\n",
    "\n",
    "# It's helpful to convert some quantities to log. Each unit represents a factor of 10 increase.\n",
    "gaia['log10_distance'] = np.log10(gaia['distance'])"
   ]
  },
  {
   "cell_type": "markdown",
   "id": "a2e4b6dd",
   "metadata": {},
   "source": [
    "Now inspect the table and find the columns you created."
   ]
  },
  {
   "cell_type": "code",
   "execution_count": null,
   "id": "688df8b4",
   "metadata": {},
   "outputs": [],
   "source": [
    "gaia"
   ]
  },
  {
   "cell_type": "code",
   "execution_count": null,
   "id": "4dfd17d0",
   "metadata": {
    "scrolled": true
   },
   "outputs": [],
   "source": [
    "plt.figure(figsize=(10, 6))  # Set the figure size (optional)\n",
    "plt.scatter(gaia['log10_distance'], gaia['AbsoluteMagnitude'], alpha=1, color='black', s=10)\n",
    "\n",
    "# Brighter stars have smaller absolute magnitudes. (See above)\n",
    "plt.gca().invert_yaxis()\n",
    "\n",
    "# Add titles and labels\n",
    "plt.xlabel('Log10(distance)')\n",
    "plt.ylabel('Absolute Magnitude')\n",
    "\n",
    "# Show grid (optional)\n",
    "plt.grid(True)"
   ]
  },
  {
   "cell_type": "markdown",
   "id": "ea030d40",
   "metadata": {},
   "source": [
    "What is happening in this plot? Is this reasonable considering that these are randomly selected stars?"
   ]
  },
  {
   "cell_type": "markdown",
   "id": "7f31f93b",
   "metadata": {},
   "source": [
    "Answer here."
   ]
  },
  {
   "cell_type": "markdown",
   "id": "57ab75e0",
   "metadata": {},
   "source": [
    "### Example 3: Histogram\n",
    "\n",
    "The normal (or Gaussian) distribution is a probability distribution, where the most probable values are nearest the centre, and the probability of a value decreases (but never reaches zero) farther from the centre. These distributions are described by two parameters: the mean ($\\mu$), which provides the location of the centre; and the standard deviation ($\\sigma$), which gives the width of the distribution. \n",
    "\n",
    "The formula for the normal distribution is \n",
    "\n",
    "$p(x) = \\frac{1}{\\sigma \\sqrt{2\\pi} } e^{-\\frac{1}{2}\\left(\\frac{x-\\mu}{\\sigma}\\right)^2}$\n",
    "\n",
    "where $p(x)$ is the probability of measuring $x$.\n"
   ]
  },
  {
   "cell_type": "code",
   "execution_count": 4,
   "id": "525370d5",
   "metadata": {
    "scrolled": true
   },
   "outputs": [
    {
     "data": {
      "image/png": "[encoded data removed]",
      "text/plain": [
       "<Figure size 500x270 with 1 Axes>"
      ]
     },
     "metadata": {},
     "output_type": "display_data"
    }
   ],
   "source": [
    "# Here we create a histogram of a normal distribution with mean 115 and standard deviation 15\n",
    "mu, sigma = 115, 15\n",
    "x = mu + sigma * np.random.randn(10000) # Look up the numpy documentation for randn\n",
    "\n",
    "# Set up the plot\n",
    "fig, ax = plt.subplots(figsize=(5, 2.7), layout='constrained')\n",
    "\n",
    "# Here is the matplotlib code for a histogram\n",
    "n, bins, patches = ax.hist(x, 50, density=True, color='dodgerblue')\n",
    "\n",
    "ax.set_xlabel('Length [cm]')\n",
    "ax.set_ylabel('Probability')\n",
    "\n",
    "ax.text(75, .025, r'$\\mu=115,\\ \\sigma=15$')\n",
    "ax.axis([55, 175, 0, 0.03])\n",
    "ax.grid(True)"
   ]
  },
  {
   "cell_type": "markdown",
   "id": "5f1287e5",
   "metadata": {},
   "source": [
    "### Exercise 3a: \n",
    "\n",
    "Now adjust the code above to plot a *uniform* distribution between 0 and 1. \n",
    "\n",
    "You may want to examine the online documentation for numpy.random. \n"
   ]
  },
  {
   "cell_type": "code",
   "execution_count": 5,
   "id": "8edf006b",
   "metadata": {},
   "outputs": [
    {
     "data": {
      "image/png": "[encoded data removed]",
      "text/plain": [
       "<Figure size 500x270 with 1 Axes>"
      ]
     },
     "metadata": {},
     "output_type": "display_data"
    }
   ],
   "source": [
    "import numpy as np\n",
    "import matplotlib.pyplot as plt\n",
    "\n",
    "# Generate a uniform distribution between 0 and 1\n",
    "x = np.random.uniform(0, 1, 10000)\n",
    "\n",
    "# Set up the plot\n",
    "fig, ax = plt.subplots(figsize=(5, 2.7), layout='constrained')\n",
    "\n",
    "# Create the histogram for the uniform distribution\n",
    "n, bins, patches = ax.hist(x, 50, density=True, color='dodgerblue')\n",
    "\n",
    "ax.set_xlabel('x')\n",
    "ax.set_ylabel('Probability')\n",
    "\n",
    "# Adjust the axis parameters for the uniform distribution range\n",
    "ax.axis([-0.5, 1.5, 0, 1.5])\n",
    "ax.grid(True)\n"
   ]
  },
  {
   "cell_type": "markdown",
   "id": "db4f536c",
   "metadata": {},
   "source": [
    "### Exercise 3b: \n",
    "\n",
    "Now use the pandas library to import the Trees dataset from the following CSV file:\n",
    "\n",
    "https://star.herts.ac.uk/~kuhn/DHV/trees.csv\n",
    "\n",
    "Make a histogram of each variable."
   ]
  },
  {
   "cell_type": "code",
   "execution_count": 6,
   "id": "5a2aa78c",
   "metadata": {},
   "outputs": [
    {
     "data": {
      "text/html": [
       "<div>\n",
       "<style scoped>\n",
       "    .dataframe tbody tr th:only-of-type {\n",
       "        vertical-align: middle;\n",
       "    }\n",
       "\n",
       "    .dataframe tbody tr th {\n",
       "        vertical-align: top;\n",
       "    }\n",
       "\n",
       "    .dataframe thead th {\n",
       "        text-align: right;\n",
       "    }\n",
       "</style>\n",
       "<table border=\"1\" class=\"dataframe\">\n",
       "  <thead>\n",
       "    <tr style=\"text-align: right;\">\n",
       "      <th></th>\n",
       "      <th>Diameter</th>\n",
       "      <th>Height</th>\n",
       "      <th>Volume</th>\n",
       "    </tr>\n",
       "  </thead>\n",
       "  <tbody>\n",
       "    <tr>\n",
       "      <th>count</th>\n",
       "      <td>31.000000</td>\n",
       "      <td>31.000000</td>\n",
       "      <td>31.000000</td>\n",
       "    </tr>\n",
       "    <tr>\n",
       "      <th>mean</th>\n",
       "      <td>13.248387</td>\n",
       "      <td>76.000000</td>\n",
       "      <td>30.170968</td>\n",
       "    </tr>\n",
       "    <tr>\n",
       "      <th>std</th>\n",
       "      <td>3.138139</td>\n",
       "      <td>6.371813</td>\n",
       "      <td>16.437846</td>\n",
       "    </tr>\n",
       "    <tr>\n",
       "      <th>min</th>\n",
       "      <td>8.300000</td>\n",
       "      <td>63.000000</td>\n",
       "      <td>10.200000</td>\n",
       "    </tr>\n",
       "    <tr>\n",
       "      <th>25%</th>\n",
       "      <td>11.050000</td>\n",
       "      <td>72.000000</td>\n",
       "      <td>19.400000</td>\n",
       "    </tr>\n",
       "    <tr>\n",
       "      <th>50%</th>\n",
       "      <td>12.900000</td>\n",
       "      <td>76.000000</td>\n",
       "      <td>24.200000</td>\n",
       "    </tr>\n",
       "    <tr>\n",
       "      <th>75%</th>\n",
       "      <td>15.250000</td>\n",
       "      <td>80.000000</td>\n",
       "      <td>37.300000</td>\n",
       "    </tr>\n",
       "    <tr>\n",
       "      <th>max</th>\n",
       "      <td>20.600000</td>\n",
       "      <td>87.000000</td>\n",
       "      <td>77.000000</td>\n",
       "    </tr>\n",
       "  </tbody>\n",
       "</table>\n",
       "</div>"
      ],
      "text/plain": [
       "        Diameter     Height     Volume\n",
       "count  31.000000  31.000000  31.000000\n",
       "mean   13.248387  76.000000  30.170968\n",
       "std     3.138139   6.371813  16.437846\n",
       "min     8.300000  63.000000  10.200000\n",
       "25%    11.050000  72.000000  19.400000\n",
       "50%    12.900000  76.000000  24.200000\n",
       "75%    15.250000  80.000000  37.300000\n",
       "max    20.600000  87.000000  77.000000"
      ]
     },
     "execution_count": 6,
     "metadata": {},
     "output_type": "execute_result"
    }
   ],
   "source": [
    "import pandas as pd\n",
    "\n",
    "url = 'https://star.herts.ac.uk/~kuhn/DHV/trees.csv'\n",
    "\n",
    "data = pd.read_csv(url)\n",
    "data.head()\n",
    "data.describe()\n",
    "\n",
    "# Write your code to obtain data from trees.csv. (Hint: use the code in the slides from the last lecture.)\n",
    "# Inspect the contents of this file so you know how to use it."
   ]
  },
  {
   "cell_type": "code",
   "execution_count": null,
   "id": "b5d1974a",
   "metadata": {},
   "outputs": [],
   "source": []
  },
  {
   "cell_type": "code",
   "execution_count": 7,
   "id": "bb43df39",
   "metadata": {},
   "outputs": [
    {
     "data": {
      "image/png": "[encoded data removed]",
      "text/plain": [
       "<Figure size 800x300 with 3 Axes>"
      ]
     },
     "metadata": {},
     "output_type": "display_data"
    }
   ],
   "source": [
    "# Fill in the missing code. Some code has already been provided that may have helpful syntax\n",
    "\n",
    "# 1st Way\n",
    "# The following code creates 3 subplots \n",
    "fig, axes = plt.subplots(nrows=1, ncols=3, figsize=(8, 3), layout='constrained')\n",
    "\n",
    "\n",
    "# When plotting you can access the different subplots with indices\n",
    "for i in range(3):\n",
    "   axes[i].hist(data.iloc[:, i], bins=20, color='dodgerblue',)\n",
    "   axes[i].set_title(data.columns[i])\n",
    "   axes[i].grid(True)\n",
    "   axes[i].set_xlabel('x')\n",
    "   axes[i].set_ylabel('Frequency')\n",
    "\n",
    "   "
   ]
  },
  {
   "cell_type": "markdown",
   "id": "fd610343",
   "metadata": {},
   "source": [
    "### Exercise 3c:\n",
    "\n",
    "The cumulative distribution of a proability density function $p(x)$ is given by\n",
    "\n",
    "$F(x) = \\int_{-\\infty}^{x} p(x^\\prime) \\, dx^\\prime$\n",
    "\n",
    "For an empirical distribution, the method \n",
    "```python\n",
    "ax.ecdf(x)  \n",
    "```\n",
    "calculates and plots the 'empirical cumulative distribution function.'\n",
    "\n",
    "For the distributions in Example 3 and Exercise 3a, please plot the corresponding empirical cumulative distribution functions."
   ]
  },
  {
   "cell_type": "code",
   "execution_count": 14,
   "id": "c7a3be38",
   "metadata": {},
   "outputs": [
    {
     "data": {
      "text/plain": [
       "<matplotlib.lines.Line2D at 0x746b56b58d10>"
      ]
     },
     "execution_count": 14,
     "metadata": {},
     "output_type": "execute_result"
    },
    {
     "data": {
      "image/png": "[encoded data removed]",
      "text/plain": [
       "<Figure size 640x480 with 1 Axes>"
      ]
     },
     "metadata": {},
     "output_type": "display_data"
    }
   ],
   "source": [
    "exercise3aData = np.random.uniform(0, 1, 10000)\n",
    "exercise3bData = pd.read_csv('https://star.herts.ac.uk/~kuhn/DHV/trees.csv')\n",
    "\n",
    "# Set up the plot\n",
    "fig, ax = plt.subplots()\n",
    "# 3a Data graph\n",
    "# ax.ecdf(exercise3aData)\n",
    "\n",
    "#3b Data graph\n",
    "ax.ecdf(exercise3bData['Diameter'])\n",
    "ax.ecdf(exercise3bData['Height'])\n",
    "ax.ecdf(exercise3bData['Volume'])"
   ]
  },
  {
   "cell_type": "markdown",
   "id": "c25566fc",
   "metadata": {},
   "source": [
    "#### In the following cell, please describe and explain the results from Exercise 3c. "
   ]
  },
  {
   "cell_type": "markdown",
   "id": "42020d59",
   "metadata": {},
   "source": []
  },
  {
   "cell_type": "markdown",
   "id": "bb624560",
   "metadata": {},
   "source": [
    "### Example 4: Error envelope\n",
    "\n",
    "If you want to indicate uncertainty, the method ax.fill_between can be useful for showing the possible range of a function. The following code does not show real data, but illustrates the graphical capabilities of matplotlib."
   ]
  },
  {
   "cell_type": "code",
   "execution_count": 15,
   "id": "df2a5d8d",
   "metadata": {},
   "outputs": [
    {
     "data": {
      "text/plain": [
       "[(0.0, 8.0),\n",
       " [<matplotlib.axis.XTick at 0x746b56b63f50>,\n",
       "  <matplotlib.axis.XTick at 0x746b57a66ae0>,\n",
       "  <matplotlib.axis.XTick at 0x746b56b679b0>,\n",
       "  <matplotlib.axis.XTick at 0x746b56b69c40>,\n",
       "  <matplotlib.axis.XTick at 0x746b56b6a750>,\n",
       "  <matplotlib.axis.XTick at 0x746b56b6b230>,\n",
       "  <matplotlib.axis.XTick at 0x746b56b6bce0>],\n",
       " (0.0, 8.0),\n",
       " [<matplotlib.axis.YTick at 0x746b56c27b90>,\n",
       "  <matplotlib.axis.YTick at 0x746b56b65460>,\n",
       "  <matplotlib.axis.YTick at 0x746b56b6c680>,\n",
       "  <matplotlib.axis.YTick at 0x746b56b6d3d0>,\n",
       "  <matplotlib.axis.YTick at 0x746b56b6dfa0>,\n",
       "  <matplotlib.axis.YTick at 0x746b56b6eab0>,\n",
       "  <matplotlib.axis.YTick at 0x746b56b6d6d0>]]"
      ]
     },
     "execution_count": 15,
     "metadata": {},
     "output_type": "execute_result"
    },
    {
     "data": {
      "image/png": "[encoded data removed]",
      "text/plain": [
       "<Figure size 640x480 with 1 Axes>"
      ]
     },
     "metadata": {},
     "output_type": "display_data"
    }
   ],
   "source": [
    "import matplotlib.pyplot as plt\n",
    "import numpy as np\n",
    "\n",
    "# make data\n",
    "np.random.seed(1)\n",
    "x = np.linspace(0, 8, 16)\n",
    "y1 = 3 + 4*x/8 + np.random.uniform(0.0, 0.5, len(x))\n",
    "y2 = 1 + 2*x/8 + np.random.uniform(0.0, 0.5, len(x))\n",
    "\n",
    "# plot\n",
    "fig, ax = plt.subplots()\n",
    "\n",
    "ax.fill_between(x, y1, y2, alpha=.5, linewidth=0)\n",
    "ax.plot(x, (y1 + y2)/2, linewidth=2)\n",
    "\n",
    "ax.set(xlim=(0, 8), xticks=np.arange(1, 8),\n",
    "       ylim=(0, 8), yticks=np.arange(1, 8))"
   ]
  },
  {
   "cell_type": "markdown",
   "id": "2435289b",
   "metadata": {},
   "source": [
    "### Exercise 4a: \n",
    "\n",
    "Modify the previous code in the following ways:\n",
    "+ add grid lines\n",
    "+ add axis labels x and y\n",
    "+ make the centre line red and the envelope pink"
   ]
  },
  {
   "cell_type": "code",
   "execution_count": 17,
   "id": "b4a2b3e9",
   "metadata": {},
   "outputs": [
    {
     "data": {
      "image/png": "[encoded data removed]",
      "text/plain": [
       "<Figure size 640x480 with 1 Axes>"
      ]
     },
     "metadata": {},
     "output_type": "display_data"
    }
   ],
   "source": [
    "np.random.seed(1)\n",
    "x = np.linspace(0, 8, 16)\n",
    "y1 = 3 + 4*x/8 + np.random.uniform(0.0, 0.5, len(x))\n",
    "y2 = 1 + 2*x/8 + np.random.uniform(0.0, 0.5, len(x))\n",
    "\n",
    "# plot\n",
    "fig, ax = plt.subplots()\n",
    "\n",
    "ax.fill_between(x, y1, y2, alpha=.5, linewidth=0)\n",
    "ax.plot(x, (y1 + y2)/2, linewidth=2)\n",
    "\n",
    "ax.set(xlim=(0, 8), xticks=np.arange(1, 8),\n",
    "       ylim=(0, 8), yticks=np.arange(1, 8))\n",
    "\n",
    "\n",
    "ax.grid(True)\n",
    "ax.set_xlabel('x')\n",
    "ax.set_ylabel('y')\n",
    "# make the centre line red and the envelope pink\n",
    "ax.lines[0].set_color('red')\n",
    "ax.collections[0].set_color('pink')"
   ]
  },
  {
   "cell_type": "markdown",
   "id": "c7f66374",
   "metadata": {},
   "source": [
    "### Exercise 4b: \n",
    "\n",
    "Please explain what each step in the code above is doing. E.g., what is 'alpha'?\n",
    "\n",
    "(You can figure this out by either experimentation or reading the documentation.)"
   ]
  },
  {
   "cell_type": "markdown",
   "id": "54279569",
   "metadata": {},
   "source": []
  },
  {
   "cell_type": "code",
   "execution_count": null,
   "id": "c31f7f71",
   "metadata": {},
   "outputs": [],
   "source": []
  }
 ],
 "metadata": {
  "kernelspec": {
   "display_name": "uniworkenv",
   "language": "python",
   "name": "python3"
  },
  "language_info": {
   "codemirror_mode": {
    "name": "ipython",
    "version": 3
   },
   "file_extension": ".py",
   "mimetype": "text/x-python",
   "name": "python",
   "nbconvert_exporter": "python",
   "pygments_lexer": "ipython3",
   "version": "3.12.3"
  }
 },
 "nbformat": 4,
 "nbformat_minor": 5
}
