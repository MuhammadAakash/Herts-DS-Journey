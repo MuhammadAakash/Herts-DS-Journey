{
 "cells": [
  {
   "cell_type": "markdown",
   "id": "55c4fae8",
   "metadata": {},
   "source": [
    "# Exploring a dataset"
   ]
  },
  {
   "cell_type": "markdown",
   "id": "f4696f61",
   "metadata": {},
   "source": [
    "Today, you will use what you have learned about data handling and visualisation to examine the 'CO2' dataset. This data set was taken from the following paper:\n",
    "\n",
    ">Potvin, C., Lechowicz, M. J. and Tardif, S. (1990) 'The statistical analysis of ecophysiological response curves obtained from experiments involving repeated measures', Ecology, 71, 1389–1400.\n",
    "\n",
    "### Data Summary\n",
    "The CO2 dataset comes from an experiment conducted to study how different types of grass plants absorb carbon dioxide (CO2) under various conditions. Scientists were interested in understanding how plants from two different regions, Quebec and Mississippi, respond to changes in their environment. Some of these plants were kept in a normal environment (\"nonchilled\"), while others were kept in cooler conditions (\"chilled\"). The experiment measured how much CO2 each plant could absorb when exposed to different concentrations of CO2 in the air. The goal was to see how the origin of the plants and the treatment conditions affected their ability to absorb CO2.\n",
    "\n",
    "The file is named: https://star.herts.ac.uk/~kuhn/DHV/CO2.parquet"
   ]
  },
  {
   "cell_type": "markdown",
   "id": "80331f58",
   "metadata": {},
   "source": [
    "## Step 1: Read this file and print the columns\n",
    "Recall that you can use the url when reading the file with Pandas."
   ]
  },
  {
   "cell_type": "code",
   "execution_count": 9,
   "id": "28cfc2aa",
   "metadata": {},
   "outputs": [
    {
     "data": {
      "text/html": [
       "<div>\n",
       "<style scoped>\n",
       "    .dataframe tbody tr th:only-of-type {\n",
       "        vertical-align: middle;\n",
       "    }\n",
       "\n",
       "    .dataframe tbody tr th {\n",
       "        vertical-align: top;\n",
       "    }\n",
       "\n",
       "    .dataframe thead th {\n",
       "        text-align: right;\n",
       "    }\n",
       "</style>\n",
       "<table border=\"1\" class=\"dataframe\">\n",
       "  <thead>\n",
       "    <tr style=\"text-align: right;\">\n",
       "      <th></th>\n",
       "      <th>Plant</th>\n",
       "      <th>Type</th>\n",
       "      <th>Treatment</th>\n",
       "      <th>conc</th>\n",
       "      <th>uptake</th>\n",
       "    </tr>\n",
       "  </thead>\n",
       "  <tbody>\n",
       "    <tr>\n",
       "      <th>0</th>\n",
       "      <td>Qn1</td>\n",
       "      <td>Quebec</td>\n",
       "      <td>nonchilled</td>\n",
       "      <td>95.0</td>\n",
       "      <td>16.0</td>\n",
       "    </tr>\n",
       "    <tr>\n",
       "      <th>1</th>\n",
       "      <td>Qn1</td>\n",
       "      <td>Quebec</td>\n",
       "      <td>nonchilled</td>\n",
       "      <td>175.0</td>\n",
       "      <td>30.4</td>\n",
       "    </tr>\n",
       "    <tr>\n",
       "      <th>2</th>\n",
       "      <td>Qn1</td>\n",
       "      <td>Quebec</td>\n",
       "      <td>nonchilled</td>\n",
       "      <td>250.0</td>\n",
       "      <td>34.8</td>\n",
       "    </tr>\n",
       "    <tr>\n",
       "      <th>3</th>\n",
       "      <td>Qn1</td>\n",
       "      <td>Quebec</td>\n",
       "      <td>nonchilled</td>\n",
       "      <td>350.0</td>\n",
       "      <td>37.2</td>\n",
       "    </tr>\n",
       "    <tr>\n",
       "      <th>4</th>\n",
       "      <td>Qn1</td>\n",
       "      <td>Quebec</td>\n",
       "      <td>nonchilled</td>\n",
       "      <td>500.0</td>\n",
       "      <td>35.3</td>\n",
       "    </tr>\n",
       "    <tr>\n",
       "      <th>...</th>\n",
       "      <td>...</td>\n",
       "      <td>...</td>\n",
       "      <td>...</td>\n",
       "      <td>...</td>\n",
       "      <td>...</td>\n",
       "    </tr>\n",
       "    <tr>\n",
       "      <th>79</th>\n",
       "      <td>Mc3</td>\n",
       "      <td>Mississippi</td>\n",
       "      <td>chilled</td>\n",
       "      <td>250.0</td>\n",
       "      <td>17.9</td>\n",
       "    </tr>\n",
       "    <tr>\n",
       "      <th>80</th>\n",
       "      <td>Mc3</td>\n",
       "      <td>Mississippi</td>\n",
       "      <td>chilled</td>\n",
       "      <td>350.0</td>\n",
       "      <td>17.9</td>\n",
       "    </tr>\n",
       "    <tr>\n",
       "      <th>81</th>\n",
       "      <td>Mc3</td>\n",
       "      <td>Mississippi</td>\n",
       "      <td>chilled</td>\n",
       "      <td>500.0</td>\n",
       "      <td>17.9</td>\n",
       "    </tr>\n",
       "    <tr>\n",
       "      <th>82</th>\n",
       "      <td>Mc3</td>\n",
       "      <td>Mississippi</td>\n",
       "      <td>chilled</td>\n",
       "      <td>675.0</td>\n",
       "      <td>18.9</td>\n",
       "    </tr>\n",
       "    <tr>\n",
       "      <th>83</th>\n",
       "      <td>Mc3</td>\n",
       "      <td>Mississippi</td>\n",
       "      <td>chilled</td>\n",
       "      <td>1000.0</td>\n",
       "      <td>19.9</td>\n",
       "    </tr>\n",
       "  </tbody>\n",
       "</table>\n",
       "<p>84 rows × 5 columns</p>\n",
       "</div>"
      ],
      "text/plain": [
       "   Plant         Type   Treatment    conc  uptake\n",
       "0    Qn1       Quebec  nonchilled    95.0    16.0\n",
       "1    Qn1       Quebec  nonchilled   175.0    30.4\n",
       "2    Qn1       Quebec  nonchilled   250.0    34.8\n",
       "3    Qn1       Quebec  nonchilled   350.0    37.2\n",
       "4    Qn1       Quebec  nonchilled   500.0    35.3\n",
       "..   ...          ...         ...     ...     ...\n",
       "79   Mc3  Mississippi     chilled   250.0    17.9\n",
       "80   Mc3  Mississippi     chilled   350.0    17.9\n",
       "81   Mc3  Mississippi     chilled   500.0    17.9\n",
       "82   Mc3  Mississippi     chilled   675.0    18.9\n",
       "83   Mc3  Mississippi     chilled  1000.0    19.9\n",
       "\n",
       "[84 rows x 5 columns]"
      ]
     },
     "execution_count": 9,
     "metadata": {},
     "output_type": "execute_result"
    }
   ],
   "source": [
    "import numpy as np\n",
    "import pandas as pd\n",
    "\n",
    "# Your work here.\n",
    "\n",
    "data = pd.read_parquet('https://star.herts.ac.uk/~kuhn/DHV/CO2.parquet')\n",
    "\n",
    "data\n"
   ]
  },
  {
   "cell_type": "markdown",
   "id": "fec47c67",
   "metadata": {},
   "source": [
    "## Step 2: Plot CO<sub>2</sub> concentration versus uptake\n",
    "You will make a nicer plot later on, but at this stage we are still examining the data. By plotting the independant variable (CO<sub>2</sub> concentration) versus the dependant variable (CO<sub>2</sub> uptake rate), you will get a sense of what is going on.\n",
    "\n",
    "- The column 'conc' is the concentration CO<sub>2</sub> in the air to which the plants are exposed in units of parts per million (ppm).\n",
    "- The column 'uptake' is rate at which the plants uptake CO<sub>2</sub> during photosynthesis in units of $\\mu\\text{mol}/m^2/s$."
   ]
  },
  {
   "cell_type": "code",
   "execution_count": 10,
   "id": "a1670910",
   "metadata": {},
   "outputs": [
    {
     "data": {
      "image/png": "[encoded data removed]",
      "text/plain": [
       "<Figure size 640x480 with 1 Axes>"
      ]
     },
     "metadata": {},
     "output_type": "display_data"
    }
   ],
   "source": [
    "import matplotlib.pyplot as plt\n",
    "\n",
    "# Your work here.\n",
    "\n",
    "plt.plot(data['conc'], data['uptake'], 'o')\n",
    "plt.show()"
   ]
  },
  {
   "cell_type": "markdown",
   "id": "7bc9c58d",
   "metadata": {},
   "source": [
    "## Step 3: Create a multi-indexed Pandas table\n",
    "\n",
    "This study used plants from two different region (Quebec and Missippi) and kept in either warmer environments (nonchilled) or colder environments (chilled). Three different types of plants were used for each region. The plants were then exposed to different concentrations of CO<sub>2</sub>.  \n",
    "\n",
    "Create a multi-indexed table using columns 'Type' and 'Treatment' for the indices. Display this table."
   ]
  },
  {
   "cell_type": "code",
   "execution_count": 11,
   "id": "9875af3b",
   "metadata": {},
   "outputs": [
    {
     "data": {
      "text/html": [
       "<div>\n",
       "<style scoped>\n",
       "    .dataframe tbody tr th:only-of-type {\n",
       "        vertical-align: middle;\n",
       "    }\n",
       "\n",
       "    .dataframe tbody tr th {\n",
       "        vertical-align: top;\n",
       "    }\n",
       "\n",
       "    .dataframe thead th {\n",
       "        text-align: right;\n",
       "    }\n",
       "</style>\n",
       "<table border=\"1\" class=\"dataframe\">\n",
       "  <thead>\n",
       "    <tr style=\"text-align: right;\">\n",
       "      <th></th>\n",
       "      <th></th>\n",
       "      <th>Plant</th>\n",
       "      <th>conc</th>\n",
       "      <th>uptake</th>\n",
       "    </tr>\n",
       "    <tr>\n",
       "      <th>Type</th>\n",
       "      <th>Treatment</th>\n",
       "      <th></th>\n",
       "      <th></th>\n",
       "      <th></th>\n",
       "    </tr>\n",
       "  </thead>\n",
       "  <tbody>\n",
       "    <tr>\n",
       "      <th rowspan=\"5\" valign=\"top\">Quebec</th>\n",
       "      <th>nonchilled</th>\n",
       "      <td>Qn1</td>\n",
       "      <td>95.0</td>\n",
       "      <td>16.0</td>\n",
       "    </tr>\n",
       "    <tr>\n",
       "      <th>nonchilled</th>\n",
       "      <td>Qn1</td>\n",
       "      <td>175.0</td>\n",
       "      <td>30.4</td>\n",
       "    </tr>\n",
       "    <tr>\n",
       "      <th>nonchilled</th>\n",
       "      <td>Qn1</td>\n",
       "      <td>250.0</td>\n",
       "      <td>34.8</td>\n",
       "    </tr>\n",
       "    <tr>\n",
       "      <th>nonchilled</th>\n",
       "      <td>Qn1</td>\n",
       "      <td>350.0</td>\n",
       "      <td>37.2</td>\n",
       "    </tr>\n",
       "    <tr>\n",
       "      <th>nonchilled</th>\n",
       "      <td>Qn1</td>\n",
       "      <td>500.0</td>\n",
       "      <td>35.3</td>\n",
       "    </tr>\n",
       "    <tr>\n",
       "      <th>...</th>\n",
       "      <th>...</th>\n",
       "      <td>...</td>\n",
       "      <td>...</td>\n",
       "      <td>...</td>\n",
       "    </tr>\n",
       "    <tr>\n",
       "      <th rowspan=\"5\" valign=\"top\">Mississippi</th>\n",
       "      <th>chilled</th>\n",
       "      <td>Mc3</td>\n",
       "      <td>250.0</td>\n",
       "      <td>17.9</td>\n",
       "    </tr>\n",
       "    <tr>\n",
       "      <th>chilled</th>\n",
       "      <td>Mc3</td>\n",
       "      <td>350.0</td>\n",
       "      <td>17.9</td>\n",
       "    </tr>\n",
       "    <tr>\n",
       "      <th>chilled</th>\n",
       "      <td>Mc3</td>\n",
       "      <td>500.0</td>\n",
       "      <td>17.9</td>\n",
       "    </tr>\n",
       "    <tr>\n",
       "      <th>chilled</th>\n",
       "      <td>Mc3</td>\n",
       "      <td>675.0</td>\n",
       "      <td>18.9</td>\n",
       "    </tr>\n",
       "    <tr>\n",
       "      <th>chilled</th>\n",
       "      <td>Mc3</td>\n",
       "      <td>1000.0</td>\n",
       "      <td>19.9</td>\n",
       "    </tr>\n",
       "  </tbody>\n",
       "</table>\n",
       "<p>84 rows × 3 columns</p>\n",
       "</div>"
      ],
      "text/plain": [
       "                       Plant    conc  uptake\n",
       "Type        Treatment                       \n",
       "Quebec      nonchilled   Qn1    95.0    16.0\n",
       "            nonchilled   Qn1   175.0    30.4\n",
       "            nonchilled   Qn1   250.0    34.8\n",
       "            nonchilled   Qn1   350.0    37.2\n",
       "            nonchilled   Qn1   500.0    35.3\n",
       "...                      ...     ...     ...\n",
       "Mississippi chilled      Mc3   250.0    17.9\n",
       "            chilled      Mc3   350.0    17.9\n",
       "            chilled      Mc3   500.0    17.9\n",
       "            chilled      Mc3   675.0    18.9\n",
       "            chilled      Mc3  1000.0    19.9\n",
       "\n",
       "[84 rows x 3 columns]"
      ]
     },
     "execution_count": 11,
     "metadata": {},
     "output_type": "execute_result"
    }
   ],
   "source": [
    "# Your work here.\n",
    "\n",
    "# You can use the Pandas method 'set_index()' to convert columns into indices.\n",
    "\n",
    "\n",
    "data = data.set_index(['Type', 'Treatment'])\n",
    "data"
   ]
  },
  {
   "cell_type": "markdown",
   "id": "c53c6240",
   "metadata": {},
   "source": [
    "## Step 4: Pivot tables for CO<sub>2</sub> uptake\n",
    "\n",
    "Use the Pandas groupby() syntax to calculate the mean, median, and standard deviation\n",
    "CO<sub>2</sub> uptake for each 'treatment'.\n",
    "\n",
    "From the summary table, does it seem that 'nonchilled' or 'chilled' plants uptake CO<sub>2</sub> at a faster rate?"
   ]
  },
  {
   "cell_type": "code",
   "execution_count": 12,
   "id": "fdaa2dae",
   "metadata": {},
   "outputs": [
    {
     "name": "stderr",
     "output_type": "stream",
     "text": [
      "/tmp/ipykernel_141800/3298175103.py:3: FutureWarning: The default of observed=False is deprecated and will be changed to True in a future version of pandas. Pass observed=False to retain current behavior or observed=True to adopt the future default and silence this warning.\n",
      "  results = data.groupby('Treatment')['uptake'].agg(['mean','median',  'std'])\n"
     ]
    },
    {
     "data": {
      "text/html": [
       "<div>\n",
       "<style scoped>\n",
       "    .dataframe tbody tr th:only-of-type {\n",
       "        vertical-align: middle;\n",
       "    }\n",
       "\n",
       "    .dataframe tbody tr th {\n",
       "        vertical-align: top;\n",
       "    }\n",
       "\n",
       "    .dataframe thead th {\n",
       "        text-align: right;\n",
       "    }\n",
       "</style>\n",
       "<table border=\"1\" class=\"dataframe\">\n",
       "  <thead>\n",
       "    <tr style=\"text-align: right;\">\n",
       "      <th></th>\n",
       "      <th>mean</th>\n",
       "      <th>median</th>\n",
       "      <th>std</th>\n",
       "    </tr>\n",
       "    <tr>\n",
       "      <th>Treatment</th>\n",
       "      <th></th>\n",
       "      <th></th>\n",
       "      <th></th>\n",
       "    </tr>\n",
       "  </thead>\n",
       "  <tbody>\n",
       "    <tr>\n",
       "      <th>nonchilled</th>\n",
       "      <td>30.642857</td>\n",
       "      <td>31.3</td>\n",
       "      <td>9.704994</td>\n",
       "    </tr>\n",
       "    <tr>\n",
       "      <th>chilled</th>\n",
       "      <td>23.783333</td>\n",
       "      <td>19.7</td>\n",
       "      <td>10.884312</td>\n",
       "    </tr>\n",
       "  </tbody>\n",
       "</table>\n",
       "</div>"
      ],
      "text/plain": [
       "                 mean  median        std\n",
       "Treatment                               \n",
       "nonchilled  30.642857    31.3   9.704994\n",
       "chilled     23.783333    19.7  10.884312"
      ]
     },
     "execution_count": 12,
     "metadata": {},
     "output_type": "execute_result"
    }
   ],
   "source": [
    "# Your work here.\n",
    "\n",
    "results = data.groupby('Treatment')['uptake'].agg(['mean','median',  'std'])\n",
    "results\n"
   ]
  },
  {
   "cell_type": "markdown",
   "id": "7f384af4",
   "metadata": {},
   "source": [
    "## Step 5: Plotting again.\n",
    "\n",
    "This time you will make a nicer plot, trying to visualise the results from Step 4. \n",
    "\n",
    "Plot data points for Missippi plants as trianges and data points for Quebec plants as squares. Plot chilled plants in blue and nonchilled plants in orange. Make the titles, axis labels, and everything else look nice. \n",
    "\n",
    "Considering this plot, do your results from Step 4 appear consistent?\n",
    "\n",
    "Hint: For plotting strategies, see the 'Example plot' below."
   ]
  },
  {
   "cell_type": "code",
   "execution_count": 21,
   "id": "21234dda",
   "metadata": {},
   "outputs": [
    {
     "name": "stderr",
     "output_type": "stream",
     "text": [
      "/tmp/ipykernel_141800/1020348878.py:9: FutureWarning: The default of observed=False is deprecated and will be changed to True in a future version of pandas. Pass observed=False to retain current behavior or observed=True to adopt the future default and silence this warning.\n",
      "  for treatmentValue, group in data.groupby('Treatment'):\n",
      "/tmp/ipykernel_141800/1020348878.py:10: FutureWarning: The default of observed=False is deprecated and will be changed to True in a future version of pandas. Pass observed=False to retain current behavior or observed=True to adopt the future default and silence this warning.\n",
      "  for typeValue, group in group.groupby('Type'):\n"
     ]
    },
    {
     "data": {
      "image/png": "[encoded data removed]",
      "text/plain": [
       "<Figure size 640x480 with 1 Axes>"
      ]
     },
     "metadata": {},
     "output_type": "display_data"
    }
   ],
   "source": [
    "import matplotlib.pyplot as plt\n",
    "\n",
    "# Your work here.\n",
    "colors = {'chilled': 'blue', 'nonchilled': 'orange'}\n",
    "markers = {'Quebec': 'o', 'Mississippi': 'x'}\n",
    "\n",
    "fig, ax = plt.subplots()\n",
    "\n",
    "for treatmentValue, group in data.groupby('Treatment'):\n",
    "    for typeValue, group in group.groupby('Type'):\n",
    "        ax.scatter(group['conc'], group['uptake'],\n",
    "                   color=colors[treatmentValue],\n",
    "                   marker=markers[typeValue],\n",
    "                   label=f'{typeValue}, {treatmentValue}')\n",
    "plt.xlabel('CO2 concentration')\n",
    "plt.ylabel('uptake')\n",
    "plt.legend()\n",
    "\n",
    "plt.show()\n"
   ]
  },
  {
   "cell_type": "markdown",
   "id": "ccbb77be",
   "metadata": {},
   "source": [
    "## Example plot: This contents of this plot are unrelated to the above exercise. This plot is just included for hints on style."
   ]
  },
  {
   "cell_type": "code",
   "execution_count": 22,
   "id": "b706a17d",
   "metadata": {},
   "outputs": [
    {
     "name": "stdout",
     "output_type": "stream",
     "text": [
      "                        temperature    volume   pressure\n",
      "Type  Treatment Sample                                  \n",
      "Gas A low       0        383.651053  1.236428  25.474790\n",
      "                1        250.720926  2.232893   9.218617\n",
      "                2        330.817706  1.829470  14.845903\n",
      "                3        430.778742  4.888763   7.234332\n",
      "                4        288.597591  4.637674   5.108997\n",
      "...                             ...       ...        ...\n",
      "Gas B high      20       289.181753  1.872269  12.680777\n",
      "                21       420.323924  1.035720  33.318464\n",
      "                22       385.502081  4.402812   7.188524\n",
      "                23       263.149774  3.145630   6.868131\n",
      "                24       440.619373  3.894028   9.289828\n",
      "\n",
      "[100 rows x 3 columns]\n"
     ]
    },
    {
     "data": {
      "image/png": "[encoded data removed]",
      "text/plain": [
       "<Figure size 1000x600 with 1 Axes>"
      ]
     },
     "metadata": {},
     "output_type": "display_data"
    }
   ],
   "source": [
    "import numpy as np\n",
    "import pandas as pd\n",
    "import matplotlib.pyplot as plt\n",
    "\n",
    "# Create a mock dataset for the sake of plotting\n",
    "np.random.seed(111)\n",
    "types = ['Gas A', 'Gas B']\n",
    "treatments = ['low', 'high']\n",
    "index = pd.MultiIndex.from_product([types, treatments, range(25)], names=['Type', 'Treatment', 'Sample'])\n",
    "n = 1  # moles\n",
    "R = 0.0821  # L·atm/(K·mol)\n",
    "temperature = np.random.uniform(200, 500, size=100)  # Temperature in Kelvin\n",
    "volume = np.random.uniform(1, 5, size=100)  # Volume in liters\n",
    "pressure = (n * R * temperature) / volume  # Pressure in atmospheres using the Ideal Gas Law: PV = nRT\n",
    "\n",
    "data = pd.DataFrame({'temperature': temperature, 'volume': volume, 'pressure': pressure}, index=index)\n",
    "print(data)\n",
    "\n",
    "# Plotting code\n",
    "\n",
    "colors = {'low': 'red', 'high': 'springgreen'} # point colours\n",
    "markers = {'Gas A': '*', 'Gas B': 'o'} # symbol shapes\n",
    "\n",
    "fig, ax = plt.subplots(figsize=(10, 6))\n",
    "\n",
    "for (type_val, treatment_val), group in data.groupby(level=['Type', 'Treatment'], observed=True):\n",
    "    ax.scatter(group['temperature'], group['pressure'],\n",
    "               color=colors[treatment_val],\n",
    "               marker=markers[type_val],\n",
    "               label=f'{type_val}, {treatment_val}')\n",
    "\n",
    "ax.set_xlabel(r'$T~[\\text{K}]$', fontsize=14)  \n",
    "ax.set_ylabel(r'$P~[\\text{atm}]$', fontsize=14)  \n",
    "\n",
    "ax.legend(bbox_to_anchor=(1.05, 1), loc='upper left')\n",
    "plt.tight_layout()\n",
    "plt.show()\n"
   ]
  },
  {
   "cell_type": "code",
   "execution_count": null,
   "id": "93b0e084",
   "metadata": {},
   "outputs": [],
   "source": []
  }
 ],
 "metadata": {
  "kernelspec": {
   "display_name": "uniworkenv",
   "language": "python",
   "name": "python3"
  },
  "language_info": {
   "codemirror_mode": {
    "name": "ipython",
    "version": 3
   },
   "file_extension": ".py",
   "mimetype": "text/x-python",
   "name": "python",
   "nbconvert_exporter": "python",
   "pygments_lexer": "ipython3",
   "version": "3.12.3"
  }
 },
 "nbformat": 4,
 "nbformat_minor": 5
}
