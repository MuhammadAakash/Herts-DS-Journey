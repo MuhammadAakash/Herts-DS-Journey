{
  "nbformat": 4,
  "nbformat_minor": 0,
  "metadata": {
    "colab": {
      "provenance": []
    },
    "kernelspec": {
      "name": "python3",
      "display_name": "Python 3"
    },
    "language_info": {
      "name": "python"
    },
    "gpuClass": "standard"
  },
  "cells": [
    {
      "cell_type": "markdown",
      "source": [
        "# Tutorial 1 - Google Colab\n",
        "\n",
        "Google Colaboratory is a platform provided by Google, which provides a Jupyter Notebook interface and is free to use—it even provides free access to GPU resources. Hopefully you are already familiar with Jupyter Notebooks, but if not, here is a quick refresher.\n",
        "\n",
        "There are two types of cells in a notebook. The cell you are reading now is called a text cell—go ahead a double click it, and take a look at the markdown formatting. Click off the cell to display the formatted text. Google Colab has useful shortcuts for formatting text at the top of the cell when in edit mode. You can make:\n",
        "\n",
        "**bold text**\n",
        "\n",
        "*italicised text*\n",
        "\n",
        "\n",
        "\n",
        "```\n",
        "# Text formatted as code\n",
        "```\n",
        "\n",
        "[link text](https://www.google.co.uk)\n",
        "\n",
        "\n",
        "\n",
        "> Indented blocks\n",
        "\n",
        "\n",
        "1.   Lists\n",
        "\n",
        "*   Bulleted Lists\n",
        "\n",
        "And more. Try it out in the next Text cell.\n"
      ],
      "metadata": {
        "id": "kI3ZM2-lK25W"
      }
    },
    {
      "cell_type": "markdown",
      "source": [
        "# **Exercise 1**\n",
        "Write and format some text below! Double click me to edit!\n",
        "\n",
        "***bold text***\n",
        "\n",
        "\n",
        "\n",
        "```\n",
        "# This is formatted as code\n",
        "```\n",
        "\n"
      ],
      "metadata": {
        "id": "fKfAwdiYQixO"
      }
    },
    {
      "cell_type": "markdown",
      "source": [
        "The other type of cell is called a Code cell, and in Colab these cells run python. Colab includes all the popular python modules you'll need for this module, as well as some specialist data science and machine learning tools. If the module you need isn't available, the tutorial notebooks will provide the code needed to install them.\n",
        "\n",
        "# **Execise 2**\n",
        "To run a cell, you can either hit the play button that appears on the left when you are editted the cell, or hit ```shift+enter``` on your keyboard. Try it with the code below:"
      ],
      "metadata": {
        "id": "hYrdRNFOQt8k"
      }
    },
    {
      "cell_type": "code",
      "execution_count": null,
      "metadata": {
        "id": "9AJBRMunKvzB",
        "outputId": "83666d92-4333-4cb2-f987-71c8a3a3cbcc",
        "colab": {
          "base_uri": "https://localhost:8080/"
        }
      },
      "outputs": [
        {
          "output_type": "execute_result",
          "data": {
            "text/plain": [
              "array([ 0,  1,  2,  3,  4,  5,  6,  7,  8,  9, 10, 11])"
            ]
          },
          "metadata": {},
          "execution_count": 4
        }
      ],
      "source": [
        "import numpy as np\n",
        "\n",
        "x = np.arange(0,12)\n",
        "y = np.arange(12,24)\n",
        "\n",
        "np.mean(x*y)"
      ]
    },
    {
      "cell_type": "markdown",
      "source": [
        "In the tutorials, there will be a mix of excercises that require you to write code from scratch or finish incomplete code. These will be marked as\n",
        "\n",
        "```\n",
        "### Description of task and instructions on how to complete it\n",
        "# you may also be provided with methods and functions to use as hints\n",
        "# plt.subplots, axis.scatter, datasets.make_blobs\n",
        "\"\"\"\n",
        "Code in double quotes is incomplete, your task is to finish it\n",
        "\"\"\"\n",
        "```\n",
        "\n",
        "# **Exercise 3**\n",
        "Follow the instructions below and make a plot."
      ],
      "metadata": {
        "id": "V0F5JEf9TwS9"
      }
    },
    {
      "cell_type": "code",
      "source": [
        "# Module imports will usually be provided, but feel free to use different ones if you like\n",
        "import sklearn.datasets as datasets\n",
        "import matplotlib.pyplot as plt\n",
        "\n",
        "\n",
        "\n",
        "### Here's a function that takes in a 2D blob of data and plots it on a pyplot\n",
        "### axis. You should use a scatter plot, and use the labels for the colours.\n",
        "### Fill in the blanks, then remove the double quotes.\n",
        "def plot_blobs(blobs, labels, axis):\n",
        "    # blob: np.array with shape (n_samples, n_features)\n",
        "    # labels: the integer labels for cluster membership of each sample\n",
        "    # axis: a pyplot axis object\n",
        "\n",
        "    axis.scatter(blobs[:, 0], blobs[:,1], c=labels)\n",
        "\n",
        "\n"
      ],
      "metadata": {
        "id": "4sraZsIXUXmG"
      },
      "execution_count": null,
      "outputs": []
    },
    {
      "cell_type": "code",
      "source": [
        "### Create a matplotlib figure with 4 subplots in a (2,2) configuration\n",
        "# plt.subplots\n",
        "f, ax = plt.subplots(2, 2, figsize=(8, 5), dpi=144)\n",
        "\n",
        "### Create a for loop that does the following for each subplot:\n",
        "### Create a blob dataset with datasets.make_blobs with 300 samples and\n",
        "### 3 centres.\n",
        "### Call the plot_blobs function for the dataset\n",
        "# datasets.make_blobs\n",
        "# Think about the shape of your subplots and how to loop over them\n",
        "\n",
        "\n"
      ],
      "metadata": {
        "id": "m9g0xKl6sHnp",
        "colab": {
          "base_uri": "https://localhost:8080/",
          "height": 211
        },
        "outputId": "183071ff-eb6c-4c56-c0ac-701c18595997",
        "collapsed": true
      },
      "execution_count": 1,
      "outputs": [
        {
          "output_type": "error",
          "ename": "NameError",
          "evalue": "name 'plt' is not defined",
          "traceback": [
            "\u001b[0;31m---------------------------------------------------------------------------\u001b[0m",
            "\u001b[0;31mNameError\u001b[0m                                 Traceback (most recent call last)",
            "\u001b[0;32m/tmp/ipython-input-2572340919.py\u001b[0m in \u001b[0;36m<cell line: 0>\u001b[0;34m()\u001b[0m\n\u001b[1;32m      1\u001b[0m \u001b[0;31m### Create a matplotlib figure with 4 subplots in a (2,2) configuration\u001b[0m\u001b[0;34m\u001b[0m\u001b[0;34m\u001b[0m\u001b[0m\n\u001b[1;32m      2\u001b[0m \u001b[0;31m# plt.subplots\u001b[0m\u001b[0;34m\u001b[0m\u001b[0;34m\u001b[0m\u001b[0m\n\u001b[0;32m----> 3\u001b[0;31m \u001b[0mf\u001b[0m\u001b[0;34m,\u001b[0m \u001b[0max\u001b[0m \u001b[0;34m=\u001b[0m \u001b[0mplt\u001b[0m\u001b[0;34m.\u001b[0m\u001b[0msubplots\u001b[0m\u001b[0;34m(\u001b[0m\u001b[0;36m2\u001b[0m\u001b[0;34m,\u001b[0m \u001b[0;36m2\u001b[0m\u001b[0;34m,\u001b[0m \u001b[0mfigsize\u001b[0m\u001b[0;34m=\u001b[0m\u001b[0;34m(\u001b[0m\u001b[0;36m8\u001b[0m\u001b[0;34m,\u001b[0m \u001b[0;36m5\u001b[0m\u001b[0;34m)\u001b[0m\u001b[0;34m,\u001b[0m \u001b[0mdpi\u001b[0m\u001b[0;34m=\u001b[0m\u001b[0;36m144\u001b[0m\u001b[0;34m)\u001b[0m\u001b[0;34m\u001b[0m\u001b[0;34m\u001b[0m\u001b[0m\n\u001b[0m\u001b[1;32m      4\u001b[0m \u001b[0;34m\u001b[0m\u001b[0m\n\u001b[1;32m      5\u001b[0m \u001b[0;31m### Create a for loop that does the following for each subplot:\u001b[0m\u001b[0;34m\u001b[0m\u001b[0;34m\u001b[0m\u001b[0m\n",
            "\u001b[0;31mNameError\u001b[0m: name 'plt' is not defined"
          ]
        }
      ]
    },
    {
      "cell_type": "markdown",
      "source": [
        "You'll notice that matplotlib figures are displayed under the code blocks that generate them. to save your figures, you can either ```right-click``` and hit save to save them on your machine, or use the pyplot.savefig method to save them in the notebook storage.\n",
        "\n",
        "On that subject, on the left side of the screen, you'll see a little folder icon, go ahead and click it. If you need to upload any datasets, such as those given in the tutorials, you can do so in this panel. You should also have a ```sample_data``` folder, click it to open it and you should find a few csv files.\n",
        "\n",
        "# **Exercise 4**\n",
        "Use the function below to load in the mnist_train_small.csv dataset."
      ],
      "metadata": {
        "id": "GGBWTQmpZRSf"
      }
    },
    {
      "cell_type": "code",
      "source": [
        "import csv\n",
        "import numpy as np\n",
        "\n",
        "def load_data(filepath, delimiter=\",\", dtype=float):\n",
        "    \"\"\"Load a numerical numpy array from a file.\"\"\"\n",
        "\n",
        "    print(f\"Loading {filepath}...\")\n",
        "    with open(filepath, \"r\") as f:\n",
        "        data_iterator = csv.reader(f, delimiter=delimiter)\n",
        "        data_list = list(data_iterator)\n",
        "    data = np.asarray(data_list, dtype=dtype)\n",
        "    print(\"Done.\")\n",
        "    return data\n",
        "\n",
        "### Call the above function\n"
      ],
      "metadata": {
        "id": "U85as6iVZFrc"
      },
      "execution_count": null,
      "outputs": []
    },
    {
      "cell_type": "markdown",
      "source": [
        "The [MNIST Database](https://en.wikipedia.org/wiki/MNIST_database) is a widely used dataset of hand drawn images, used throughout the data science and machine learning community to test models and algorithms.\n",
        "\n",
        "The data you loaded should have the shape ```(20000, 785)```. The first value in each row is a number between 0 and 9, denoting the class of each sample. The rest of the row is a ```(28,28)``` pixel image, flattened into a ```(784)``` element vector.\n",
        "\n",
        "Separate out the the labels and images, and change the shape of the images so that they are ```(20000, 28, 28)```. Plot the first image to see if it looks right."
      ],
      "metadata": {
        "id": "jqexjkkidvyr"
      }
    },
    {
      "cell_type": "code",
      "source": [
        "### Separate out the labels and images\n"
      ],
      "metadata": {
        "id": "YIAdqzOMbzUS"
      },
      "execution_count": null,
      "outputs": []
    },
    {
      "cell_type": "code",
      "source": [
        "### Reshape the images into (20000, 28, 28) format\n",
        "# np.reshape\n"
      ],
      "metadata": {
        "id": "WzP_UPH6stMG"
      },
      "execution_count": null,
      "outputs": []
    },
    {
      "cell_type": "code",
      "source": [
        "### Plot one of the images with it's label as a title\n",
        "# plt.imshow, plt.title\n"
      ],
      "metadata": {
        "id": "MLmhvE74sy4M"
      },
      "execution_count": null,
      "outputs": []
    },
    {
      "cell_type": "markdown",
      "source": [
        "# Advanced Features - Completions, Magic Functions and runtimes\n",
        "\n",
        "Here you will learn some of the useful advanced functions of Colab.\n",
        "\n",
        "# **Exercise 5**\n",
        "Completions may be something you have come across in your coding experience, and are often available in your usual editor, in Ipython, and in other Jupyter Notebook platforms. You can use completions by hitting ```<Tab>``` when you are editting some code to complete what you are typing. these work with variables you have created, and with modules, functions and methods. Try it below"
      ],
      "metadata": {
        "id": "-Bq_JsabfMh3"
      }
    },
    {
      "cell_type": "code",
      "source": [
        "### Type out the first few letters of one of the variables use created above,\n",
        "### then wait for a little window to open. Find the variable name and hit <Tab>.\n",
        "\n",
        "\n",
        "### You can do the same with modules, functions, classes, etc. Type np. and then\n",
        "### wait for the window, here you can scroll through all the functions in numpy.\n",
        "### The window will update as you continue typing.\n",
        "\n",
        "### Finally, when you type out a function and call it with (), a window will\n",
        "### open showing the documentation for that function, and the arguments it takes\n",
        "### Try this with np.mean\n"
      ],
      "metadata": {
        "id": "pnCuR8Z3cHvj"
      },
      "execution_count": null,
      "outputs": []
    },
    {
      "cell_type": "markdown",
      "source": [
        "# **Exercise 6**\n",
        "Magics are a special class of functions that you can use in Ipython and Jupyter notebooks. Magics aren't python code, but they add an extra layer of functionality to the editor and intepreter. Invoke a magic with the ```%``` symbol. Use the ```%magic``` command below to view the full tutorial on magics."
      ],
      "metadata": {
        "id": "11OlWXeTii-2"
      }
    },
    {
      "cell_type": "code",
      "source": [
        "%magic"
      ],
      "metadata": {
        "id": "CgeIlyurg5FH"
      },
      "execution_count": null,
      "outputs": []
    },
    {
      "cell_type": "markdown",
      "source": [
        "A handful of useful magics when working inside a jupyter notebook are:\n",
        "\n",
        "- `%%writefile` - writes the entire cell to a file\n",
        "- `%save` - evaluates current line and writes its output to a file\n",
        "- `%history` - prints the IPython command history (including magics)\n",
        "- `%xmode` - defines how exceptions are displayed (see exercises that follow)\n",
        "- `%timeit` - times a single line (or entire cell with `%%timeit`) of code\n",
        "- `%pdb` - the Python DeBugger (when enabled, will start automatically on exceptions)\n",
        "- `%prun` - profiles a function call in a line\n",
        "\n",
        "The [full list][magics] of magics in IPython is quite long,\n",
        "although most magics are not overly useful when working within\n",
        "a jupyter notebook.\n",
        "\n",
        "[magics]: http://ipython.readthedocs.io/en/stable/interactive/magics.html\n",
        "\n",
        "Use the ```%timeit``` function to time ```np.matmul(x, y)```\n",
        "\n",
        "*NOTE x and y should still be defined from the first cell you ran in this notebook.*"
      ],
      "metadata": {
        "id": "mqJhdP20jUY3"
      }
    },
    {
      "cell_type": "code",
      "source": [
        "### TODO\n",
        "# Time the function np.matmul using %timeit\n",
        "%timeit np.matmul(x, y)"
      ],
      "metadata": {
        "id": "mBRUX_Rsi5BY"
      },
      "execution_count": null,
      "outputs": []
    },
    {
      "cell_type": "markdown",
      "source": [
        "# **Exercise 7**\n",
        "When you start up a notebook in Colab, you will be allocated a number of compuattional resources to run your code with. This is called your ```runtime```. In the top right, you should see a small box that shows your current RAM and Disk usage. Go ahead and click on that.\n",
        "\n",
        "You'll see a panel that shows a simple display of your memory usage overtime, and what type of ```runtime``` you are using. If you haven't changed anything, it should say something like ```Python 3 Google Compute Engine backend```.\n",
        "\n",
        "Later in the course you will see how you can use GPUs to accelerate the speed of your code. Google provides free access to GPUs—with some limitations—with colab. To change your notebook over to a GPU, click ```Change runtime type``` at the bottom of the Resources tab and change ```Hardware Accelerator``` to GPU. It will take a few seconds to connect, but the tab should now say ```Python 3 Google Compute Engine backend (GPU)```.\n",
        "\n",
        "There are a few different models of GPUs that are available, and it can be a bit of a lucky dip for what you will be allocated. run the command ```nvidia-smi -L``` below to see what GPU you have been allocated.\n",
        "\n",
        "*NOTE Changing the runtime type resets the notebook, so any files you have uploaded and any variables you have generated will be deleted. If you change the runtime type mid session, you will have to rerun your code from the start in order for everything to work.*\n",
        "\n",
        "*Don't worry too much about the details of GPUs just yet, that will be covered later in the course.*"
      ],
      "metadata": {
        "id": "Ntals6nQm4Uw"
      }
    },
    {
      "cell_type": "code",
      "source": [
        "!nvidia-smi -L\n"
      ],
      "metadata": {
        "id": "-RLyQYsyoiSI",
        "colab": {
          "base_uri": "https://localhost:8080/"
        },
        "outputId": "bd4d08e3-b816-4d86-cf2e-3a146ff0595e"
      },
      "execution_count": null,
      "outputs": [
        {
          "output_type": "stream",
          "name": "stdout",
          "text": [
            "NVIDIA-SMI has failed because it couldn't communicate with the NVIDIA driver. Make sure that the latest NVIDIA driver is installed and running.\n",
            "\n"
          ]
        }
      ]
    },
    {
      "cell_type": "markdown",
      "source": [
        "# **Exercise 8**\n",
        "For assignments, you will need to submit both the completed assignment notebook, and a sharing link to the notebook on your google drive. To download the notebook, you can click File in the top left, then save, followed by Download > Download .ipynb. Try this now.\n",
        "\n",
        "To create a sharing link, click the Share button in the top right, change the \"General Access\" to \"Anyone with the link\", then click \"Copy Link\". You can then paste this link into the text entry provided in the assignment, or add it as a comment to your submission. Sharing the link helps the module team ensure proper authorship of your code."
      ],
      "metadata": {
        "id": "1WcWWEj9lVV9"
      }
    }
  ]
}